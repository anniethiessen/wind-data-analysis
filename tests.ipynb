{
 "cells": [
  {
   "cell_type": "code",
   "execution_count": 1,
   "metadata": {},
   "outputs": [
    {
     "ename": "SyntaxError",
     "evalue": "'return' outside function (<ipython-input-1-666b142a0d7e>, line 10)",
     "traceback": [
      "\u001b[0;36m  File \u001b[0;32m\"<ipython-input-1-666b142a0d7e>\"\u001b[0;36m, line \u001b[0;32m10\u001b[0m\n\u001b[0;31m    return data_path\u001b[0m\n\u001b[0m    ^\u001b[0m\n\u001b[0;31mSyntaxError\u001b[0m\u001b[0;31m:\u001b[0m 'return' outside function\n"
     ],
     "output_type": "error"
    }
   ],
   "source": [
    "for years_dir in years_dirs:\n",
    "    for time_dir in time_dirs:\n",
    "        for type_dir in type_dirs:\n",
    "            data_path = './{root}/{years}/{time}/{type}/'.format(\n",
    "                root=root_dir,\n",
    "                years=years_dir,\n",
    "                time=time_dir,\n",
    "                type=type_dir\n",
    "            )\n"
   ]
  },
  {
   "cell_type": "code",
   "execution_count": null,
   "metadata": {},
   "outputs": [],
   "source": []
  }
 ],
 "metadata": {
  "kernelspec": {
   "display_name": "Python 3",
   "language": "python",
   "name": "python3"
  },
  "language_info": {
   "codemirror_mode": {
    "name": "ipython",
    "version": 3
   },
   "file_extension": ".py",
   "mimetype": "text/x-python",
   "name": "python",
   "nbconvert_exporter": "python",
   "pygments_lexer": "ipython3",
   "version": "3.7.2"
  }
 },
 "nbformat": 4,
 "nbformat_minor": 2
}

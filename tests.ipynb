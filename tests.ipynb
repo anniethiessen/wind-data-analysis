{
 "cells": [
  {
   "cell_type": "markdown",
   "metadata": {},
   "source": [
    "### IMPORTS"
   ]
  },
  {
   "cell_type": "code",
   "execution_count": 7,
   "metadata": {},
   "outputs": [],
   "source": [
    "import glob\n",
    "import os\n",
    "\n",
    "import pandas as pd"
   ]
  },
  {
   "cell_type": "markdown",
   "metadata": {},
   "source": [
    "### GLOBAL VARIABLES"
   ]
  },
  {
   "cell_type": "code",
   "execution_count": 3,
   "metadata": {},
   "outputs": [],
   "source": [
    "SCENARIO_CODES = {\n",
    "    'business_as_usual_5%': '5BAU',\n",
    "    'concentrated_20%': '20CONC',\n",
    "    'dispersed_20%': '20DISP',\n",
    "    'targeted_35%': '35TRGT'\n",
    "}\n",
    "FORECAST_CODES = {\n",
    "    'actual': 'Pwr1HB',\n",
    "    'forecast_one_hour': 'FcstHA',\n",
    "    'forecast_four_hour': 'Fcst4HA',\n",
    "    'forecast_six_hour': 'Fcst6HA',\n",
    "    'forecast_one_day': 'FcstDA'\n",
    "}\n",
    "\n",
    "# ROOT_DIR = 'data'\n",
    "ROOT_DIR = 'test_data'\n",
    "PERIOD_DIRS = ['2008-2010']\n",
    "SCENARIO_DIRS = [\n",
    "    SCENARIO_CODES['business_as_usual_5%'],\n",
    "    SCENARIO_CODES['concentrated_20%'],\n",
    "    SCENARIO_CODES['dispersed_20%'],\n",
    "    SCENARIO_CODES['targeted_35%']\n",
    "]\n",
    "FORECAST_DIRS = [\n",
    "    FORECAST_CODES['actual'],\n",
    "    FORECAST_CODES['forecast_one_hour'],\n",
    "    FORECAST_CODES['forecast_four_hour'],\n",
    "    FORECAST_CODES['forecast_six_hour'],\n",
    "    FORECAST_CODES['forecast_one_day']\n",
    "]"
   ]
  },
  {
   "cell_type": "markdown",
   "metadata": {},
   "source": [
    "### FUNCTIONS"
   ]
  },
  {
   "cell_type": "markdown",
   "metadata": {},
   "source": [
    "#### GET CSV FILE PATHS"
   ]
  },
  {
   "cell_type": "code",
   "execution_count": 15,
   "metadata": {},
   "outputs": [],
   "source": [
    "def get_csv_file_paths(period_dirs, scenario_dirs, forecast_dirs):\n",
    "    \"\"\"\n",
    "    Returns a list of CSV file paths within specific period, scenario,\n",
    "    and forecast directories.\n",
    "\n",
    "    :param period_dirs: Period directory names\n",
    "    :type period_dirs: list\n",
    "    :param scenario_dirs: Scenario directory names\n",
    "    :type scenario_dirs: list\n",
    "    :param forecast_dirs: Forecast directory names\n",
    "    :type forecast_dirs: list\n",
    "    :return: CSV file paths\n",
    "    :rtype: list\n",
    "\n",
    "    \"\"\"\n",
    "\n",
    "    ret = []\n",
    "    for period_dir in period_dirs:\n",
    "        for scenario_dir in scenario_dirs:\n",
    "            for forecast_dir in forecast_dirs:\n",
    "                data_path = './{r}/{p}/{s}/{f}/'.format(\n",
    "                    r=ROOT_DIR, p=period_dir, s=scenario_dir, f=forecast_dir)\n",
    "                ret += glob.glob(os.path.join(data_path, \"*.csv\"))\n",
    "    return ret"
   ]
  },
  {
   "cell_type": "markdown",
   "metadata": {},
   "source": [
    "#### GET DATAFRAMES"
   ]
  },
  {
   "cell_type": "code",
   "execution_count": 13,
   "metadata": {},
   "outputs": [],
   "source": [
    "def get_dataframes(file_paths):\n",
    "    \"\"\"\n",
    "    Returns a dictionary of dataframes from list of CSV file paths.\n",
    "\n",
    "    :param file_paths: CSV file paths\n",
    "    :type file_paths: list\n",
    "    :return: Dataframes\n",
    "    :rtype: dict\n",
    "\n",
    "    \"\"\"\n",
    "\n",
    "    ret = {}\n",
    "    for file_path in file_paths:\n",
    "        df = pd.read_csv(file_path)\n",
    "        file_name = os.path.splitext(os.path.basename(file_path))[0]\n",
    "        ret[file_name] = df\n",
    "    return ret"
   ]
  },
  {
   "cell_type": "markdown",
   "metadata": {},
   "source": [
    "#### PRINT HEADS"
   ]
  },
  {
   "cell_type": "code",
   "execution_count": 14,
   "metadata": {},
   "outputs": [],
   "source": [
    "def print_heads(data_dict):\n",
    "    \"\"\"\n",
    "    Prints file name and dataframe head (first five rows) from data \n",
    "    dictionary.\n",
    "    \n",
    "    :param data_dict: File names with dataframes\n",
    "    :type data_dict: dict\n",
    "    \n",
    "    \"\"\"\n",
    "    \n",
    "    for file_name, df in data_dict.items():\n",
    "        print('\\n' + file_name + '\\n')\n",
    "        print(df.head())"
   ]
  },
  {
   "cell_type": "markdown",
   "metadata": {},
   "source": []
  },
  {
   "cell_type": "code",
   "execution_count": null,
   "metadata": {},
   "outputs": [],
   "source": []
  }
 ],
 "metadata": {
  "kernelspec": {
   "display_name": "Python 3",
   "language": "python",
   "name": "python3"
  },
  "language_info": {
   "codemirror_mode": {
    "name": "ipython",
    "version": 3
   },
   "file_extension": ".py",
   "mimetype": "text/x-python",
   "name": "python",
   "nbconvert_exporter": "python",
   "pygments_lexer": "ipython3",
   "version": "3.7.2"
  }
 },
 "nbformat": 4,
 "nbformat_minor": 2
}
